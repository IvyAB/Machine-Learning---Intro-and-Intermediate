{
 "cells": [
  {
   "cell_type": "markdown",
   "id": "34dbd90a",
   "metadata": {
    "papermill": {
     "duration": 0.010412,
     "end_time": "2022-04-15T19:35:07.587280",
     "exception": false,
     "start_time": "2022-04-15T19:35:07.576868",
     "status": "completed"
    },
    "tags": []
   },
   "source": [
    "**This notebook is an exercise in the [Introduction to Machine Learning](https://www.kaggle.com/learn/intro-to-machine-learning) course.  You can reference the tutorial at [this link](https://www.kaggle.com/dansbecker/random-forests).**\n",
    "\n",
    "---\n"
   ]
  },
  {
   "cell_type": "markdown",
   "id": "1090c611",
   "metadata": {
    "papermill": {
     "duration": 0.009272,
     "end_time": "2022-04-15T19:35:07.606316",
     "exception": false,
     "start_time": "2022-04-15T19:35:07.597044",
     "status": "completed"
    },
    "tags": []
   },
   "source": [
    "## Recap\n",
    "Here's the code you've written so far."
   ]
  },
  {
   "cell_type": "code",
   "execution_count": 1,
   "id": "a2d02220",
   "metadata": {
    "execution": {
     "iopub.execute_input": "2022-04-15T19:35:07.628392Z",
     "iopub.status.busy": "2022-04-15T19:35:07.627261Z",
     "iopub.status.idle": "2022-04-15T19:35:09.202963Z",
     "shell.execute_reply": "2022-04-15T19:35:09.201325Z"
    },
    "papermill": {
     "duration": 1.589639,
     "end_time": "2022-04-15T19:35:09.205559",
     "exception": false,
     "start_time": "2022-04-15T19:35:07.615920",
     "status": "completed"
    },
    "tags": []
   },
   "outputs": [
    {
     "name": "stdout",
     "output_type": "stream",
     "text": [
      "Validation MAE when not specifying max_leaf_nodes: 29,653\n",
      "Validation MAE for best value of max_leaf_nodes: 27,283\n",
      "\n",
      "Setup complete\n"
     ]
    }
   ],
   "source": [
    "# Code you have previously used to load data\n",
    "import pandas as pd\n",
    "from sklearn.metrics import mean_absolute_error\n",
    "from sklearn.model_selection import train_test_split\n",
    "from sklearn.tree import DecisionTreeRegressor\n",
    "\n",
    "\n",
    "# Path of the file to read\n",
    "iowa_file_path = '../input/home-data-for-ml-course/train.csv'\n",
    "\n",
    "home_data = pd.read_csv(iowa_file_path)\n",
    "# Create target object and call it y\n",
    "y = home_data.SalePrice\n",
    "# Create X\n",
    "features = ['LotArea', 'YearBuilt', '1stFlrSF', '2ndFlrSF', 'FullBath', 'BedroomAbvGr', 'TotRmsAbvGrd']\n",
    "X = home_data[features]\n",
    "\n",
    "# Split into validation and training data\n",
    "train_X, val_X, train_y, val_y = train_test_split(X, y, random_state=1)\n",
    "\n",
    "# Specify Model\n",
    "iowa_model = DecisionTreeRegressor(random_state=1)\n",
    "# Fit Model\n",
    "iowa_model.fit(train_X, train_y)\n",
    "\n",
    "# Make validation predictions and calculate mean absolute error\n",
    "val_predictions = iowa_model.predict(val_X)\n",
    "val_mae = mean_absolute_error(val_predictions, val_y)\n",
    "print(\"Validation MAE when not specifying max_leaf_nodes: {:,.0f}\".format(val_mae))\n",
    "\n",
    "# Using best value for max_leaf_nodes\n",
    "iowa_model = DecisionTreeRegressor(max_leaf_nodes=100, random_state=1)\n",
    "iowa_model.fit(train_X, train_y)\n",
    "val_predictions = iowa_model.predict(val_X)\n",
    "val_mae = mean_absolute_error(val_predictions, val_y)\n",
    "print(\"Validation MAE for best value of max_leaf_nodes: {:,.0f}\".format(val_mae))\n",
    "\n",
    "\n",
    "# Set up code checking\n",
    "from learntools.core import binder\n",
    "binder.bind(globals())\n",
    "from learntools.machine_learning.ex6 import *\n",
    "print(\"\\nSetup complete\")"
   ]
  },
  {
   "cell_type": "markdown",
   "id": "46e0d6b5",
   "metadata": {
    "papermill": {
     "duration": 0.006471,
     "end_time": "2022-04-15T19:35:09.219279",
     "exception": false,
     "start_time": "2022-04-15T19:35:09.212808",
     "status": "completed"
    },
    "tags": []
   },
   "source": [
    "# Exercises\n",
    "Data science isn't always this easy. But replacing the decision tree with a Random Forest is going to be an easy win."
   ]
  },
  {
   "cell_type": "markdown",
   "id": "7e175fc5",
   "metadata": {
    "papermill": {
     "duration": 0.006299,
     "end_time": "2022-04-15T19:35:09.232062",
     "exception": false,
     "start_time": "2022-04-15T19:35:09.225763",
     "status": "completed"
    },
    "tags": []
   },
   "source": [
    "## Step 1: Use a Random Forest"
   ]
  },
  {
   "cell_type": "code",
   "execution_count": 2,
   "id": "2dcf9a64",
   "metadata": {
    "execution": {
     "iopub.execute_input": "2022-04-15T19:35:09.247011Z",
     "iopub.status.busy": "2022-04-15T19:35:09.246800Z",
     "iopub.status.idle": "2022-04-15T19:35:09.844020Z",
     "shell.execute_reply": "2022-04-15T19:35:09.843246Z"
    },
    "papermill": {
     "duration": 0.606521,
     "end_time": "2022-04-15T19:35:09.845574",
     "exception": false,
     "start_time": "2022-04-15T19:35:09.239053",
     "status": "completed"
    },
    "tags": []
   },
   "outputs": [
    {
     "data": {
      "application/javascript": [
       "parent.postMessage({\"jupyterEvent\": \"custom.exercise_interaction\", \"data\": {\"outcomeType\": 1, \"valueTowardsCompletion\": 1.0, \"interactionType\": 1, \"questionType\": 2, \"questionId\": \"1_CheckRfScore\", \"learnToolsVersion\": \"0.3.4\", \"failureMessage\": \"\", \"exceptionClass\": \"\", \"trace\": \"\"}}, \"*\")"
      ],
      "text/plain": [
       "<IPython.core.display.Javascript object>"
      ]
     },
     "metadata": {},
     "output_type": "display_data"
    },
    {
     "data": {
      "text/markdown": [
       "<span style=\"color:#33cc33\">Correct</span>"
      ],
      "text/plain": [
       "Correct"
      ]
     },
     "metadata": {},
     "output_type": "display_data"
    }
   ],
   "source": [
    "from sklearn.ensemble import RandomForestRegressor\n",
    "\n",
    "# Define the model. Set random_state to 1\n",
    "\n",
    "rf_model = RandomForestRegressor()\n",
    "\n",
    "rf_model.fit(train_X, train_y)\n",
    "\n",
    "\n",
    "rf_val_predictions = rf_model.predict(val_X)\n",
    "rf_val_mae = mean_absolute_error(rf_val_predictions, val_y)\n",
    "\n",
    "# Check your answer\n",
    "step_1.check()"
   ]
  },
  {
   "cell_type": "code",
   "execution_count": 3,
   "id": "8676be7c",
   "metadata": {
    "execution": {
     "iopub.execute_input": "2022-04-15T19:35:09.863897Z",
     "iopub.status.busy": "2022-04-15T19:35:09.863588Z",
     "iopub.status.idle": "2022-04-15T19:35:09.867439Z",
     "shell.execute_reply": "2022-04-15T19:35:09.866641Z"
    },
    "papermill": {
     "duration": 0.015468,
     "end_time": "2022-04-15T19:35:09.869020",
     "exception": false,
     "start_time": "2022-04-15T19:35:09.853552",
     "status": "completed"
    },
    "tags": []
   },
   "outputs": [],
   "source": [
    "# The lines below will show you a hint or the solution.\n",
    "# step_1.hint() \n",
    "#step_1.solution()\n"
   ]
  },
  {
   "cell_type": "markdown",
   "id": "5c160c08",
   "metadata": {
    "papermill": {
     "duration": 0.007892,
     "end_time": "2022-04-15T19:35:09.885157",
     "exception": false,
     "start_time": "2022-04-15T19:35:09.877265",
     "status": "completed"
    },
    "tags": []
   },
   "source": [
    "So far, you have followed specific instructions at each step of your project. This helped learn key ideas and build your first model, but now you know enough to try things on your own. \n",
    "\n",
    "Machine Learning competitions are a great way to try your own ideas and learn more as you independently navigate a machine learning project. \n",
    "\n",
    "# Keep Going\n",
    "\n",
    "You are ready for **[Machine Learning Competitions](https://www.kaggle.com/alexisbcook/machine-learning-competitions).**\n"
   ]
  },
  {
   "cell_type": "markdown",
   "id": "8cbffc2a",
   "metadata": {
    "papermill": {
     "duration": 0.007459,
     "end_time": "2022-04-15T19:35:09.900288",
     "exception": false,
     "start_time": "2022-04-15T19:35:09.892829",
     "status": "completed"
    },
    "tags": []
   },
   "source": [
    "---\n",
    "\n",
    "\n",
    "\n",
    "\n",
    "*Have questions or comments? Visit the [course discussion forum](https://www.kaggle.com/learn/intro-to-machine-learning/discussion) to chat with other learners.*"
   ]
  }
 ],
 "metadata": {
  "kernelspec": {
   "display_name": "Python 3",
   "language": "python",
   "name": "python3"
  },
  "language_info": {
   "codemirror_mode": {
    "name": "ipython",
    "version": 3
   },
   "file_extension": ".py",
   "mimetype": "text/x-python",
   "name": "python",
   "nbconvert_exporter": "python",
   "pygments_lexer": "ipython3",
   "version": "3.7.12"
  },
  "papermill": {
   "default_parameters": {},
   "duration": 14.566568,
   "end_time": "2022-04-15T19:35:10.830018",
   "environment_variables": {},
   "exception": null,
   "input_path": "__notebook__.ipynb",
   "output_path": "__notebook__.ipynb",
   "parameters": {},
   "start_time": "2022-04-15T19:34:56.263450",
   "version": "2.3.4"
  }
 },
 "nbformat": 4,
 "nbformat_minor": 5
}
