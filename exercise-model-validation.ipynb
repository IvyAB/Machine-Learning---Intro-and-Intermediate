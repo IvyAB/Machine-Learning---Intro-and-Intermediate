{
 "cells": [
  {
   "cell_type": "markdown",
   "id": "c96dcc7a",
   "metadata": {
    "papermill": {
     "duration": 0.017622,
     "end_time": "2022-04-15T19:32:58.468017",
     "exception": false,
     "start_time": "2022-04-15T19:32:58.450395",
     "status": "completed"
    },
    "tags": []
   },
   "source": [
    "**This notebook is an exercise in the [Introduction to Machine Learning](https://www.kaggle.com/learn/intro-to-machine-learning) course.  You can reference the tutorial at [this link](https://www.kaggle.com/dansbecker/model-validation).**\n",
    "\n",
    "---\n"
   ]
  },
  {
   "cell_type": "markdown",
   "id": "6eae883f",
   "metadata": {
    "papermill": {
     "duration": 0.015907,
     "end_time": "2022-04-15T19:32:58.500676",
     "exception": false,
     "start_time": "2022-04-15T19:32:58.484769",
     "status": "completed"
    },
    "tags": []
   },
   "source": [
    "## Recap\n",
    "You've built a model. In this exercise you will test how good your model is.\n",
    "\n",
    "Run the cell below to set up your coding environment where the previous exercise left off."
   ]
  },
  {
   "cell_type": "code",
   "execution_count": 1,
   "id": "f9ceb02a",
   "metadata": {
    "execution": {
     "iopub.execute_input": "2022-04-15T19:32:58.535272Z",
     "iopub.status.busy": "2022-04-15T19:32:58.534899Z",
     "iopub.status.idle": "2022-04-15T19:32:59.938590Z",
     "shell.execute_reply": "2022-04-15T19:32:59.937606Z"
    },
    "papermill": {
     "duration": 1.423991,
     "end_time": "2022-04-15T19:32:59.941149",
     "exception": false,
     "start_time": "2022-04-15T19:32:58.517158",
     "status": "completed"
    },
    "tags": []
   },
   "outputs": [
    {
     "name": "stdout",
     "output_type": "stream",
     "text": [
      "First in-sample predictions: [208500. 181500. 223500. 140000. 250000.]\n",
      "Actual target values for those homes: [208500, 181500, 223500, 140000, 250000]\n",
      "Setup Complete\n"
     ]
    }
   ],
   "source": [
    "# Code you have previously used to load data\n",
    "import pandas as pd\n",
    "from sklearn.tree import DecisionTreeRegressor\n",
    "\n",
    "# Path of the file to read\n",
    "iowa_file_path = '../input/home-data-for-ml-course/train.csv'\n",
    "\n",
    "home_data = pd.read_csv(iowa_file_path)\n",
    "y = home_data.SalePrice\n",
    "feature_columns = ['LotArea', 'YearBuilt', '1stFlrSF', '2ndFlrSF', 'FullBath', 'BedroomAbvGr', 'TotRmsAbvGrd']\n",
    "X = home_data[feature_columns]\n",
    "\n",
    "# Specify Model\n",
    "iowa_model = DecisionTreeRegressor()\n",
    "# Fit Model\n",
    "iowa_model.fit(X, y)\n",
    "\n",
    "print(\"First in-sample predictions:\", iowa_model.predict(X.head()))\n",
    "print(\"Actual target values for those homes:\", y.head().tolist())\n",
    "\n",
    "# Set up code checking\n",
    "from learntools.core import binder\n",
    "binder.bind(globals())\n",
    "from learntools.machine_learning.ex4 import *\n",
    "print(\"Setup Complete\")"
   ]
  },
  {
   "cell_type": "markdown",
   "id": "4b50c451",
   "metadata": {
    "papermill": {
     "duration": 0.01613,
     "end_time": "2022-04-15T19:32:59.974356",
     "exception": false,
     "start_time": "2022-04-15T19:32:59.958226",
     "status": "completed"
    },
    "tags": []
   },
   "source": [
    "# Exercises\n",
    "\n",
    "## Step 1: Split Your Data\n",
    "Use the `train_test_split` function to split up your data.\n",
    "\n",
    "Give it the argument `random_state=1` so the `check` functions know what to expect when verifying your code.\n",
    "\n",
    "Recall, your features are loaded in the DataFrame **X** and your target is loaded in **y**.\n"
   ]
  },
  {
   "cell_type": "code",
   "execution_count": 2,
   "id": "e9495cb9",
   "metadata": {
    "execution": {
     "iopub.execute_input": "2022-04-15T19:33:00.010175Z",
     "iopub.status.busy": "2022-04-15T19:33:00.009892Z",
     "iopub.status.idle": "2022-04-15T19:33:00.024525Z",
     "shell.execute_reply": "2022-04-15T19:33:00.023691Z"
    },
    "papermill": {
     "duration": 0.035858,
     "end_time": "2022-04-15T19:33:00.026542",
     "exception": false,
     "start_time": "2022-04-15T19:32:59.990684",
     "status": "completed"
    },
    "tags": []
   },
   "outputs": [
    {
     "data": {
      "application/javascript": [
       "parent.postMessage({\"jupyterEvent\": \"custom.exercise_interaction\", \"data\": {\"outcomeType\": 1, \"valueTowardsCompletion\": 0.25, \"interactionType\": 1, \"questionType\": 2, \"questionId\": \"1_SplitData\", \"learnToolsVersion\": \"0.3.4\", \"failureMessage\": \"\", \"exceptionClass\": \"\", \"trace\": \"\"}}, \"*\")"
      ],
      "text/plain": [
       "<IPython.core.display.Javascript object>"
      ]
     },
     "metadata": {},
     "output_type": "display_data"
    },
    {
     "data": {
      "text/markdown": [
       "<span style=\"color:#33cc33\">Correct</span>"
      ],
      "text/plain": [
       "Correct"
      ]
     },
     "metadata": {},
     "output_type": "display_data"
    }
   ],
   "source": [
    "# Import the train_test_split function and uncomment\n",
    "# from _ import _\n",
    "\n",
    "from sklearn.model_selection import train_test_split\n",
    "train_X, val_X, train_y, val_y = train_test_split(X, y, random_state=1)\n",
    "\n",
    "# Check your answer\n",
    "step_1.check()"
   ]
  },
  {
   "cell_type": "code",
   "execution_count": 3,
   "id": "6cbe902c",
   "metadata": {
    "execution": {
     "iopub.execute_input": "2022-04-15T19:33:00.064385Z",
     "iopub.status.busy": "2022-04-15T19:33:00.063811Z",
     "iopub.status.idle": "2022-04-15T19:33:00.067523Z",
     "shell.execute_reply": "2022-04-15T19:33:00.066860Z"
    },
    "papermill": {
     "duration": 0.024599,
     "end_time": "2022-04-15T19:33:00.069419",
     "exception": false,
     "start_time": "2022-04-15T19:33:00.044820",
     "status": "completed"
    },
    "tags": []
   },
   "outputs": [],
   "source": [
    "# The lines below will show you a hint or the solution.\n",
    "# step_1.hint() \n",
    "#step_1.solution()\n"
   ]
  },
  {
   "cell_type": "markdown",
   "id": "3c8de8bc",
   "metadata": {
    "papermill": {
     "duration": 0.017538,
     "end_time": "2022-04-15T19:33:00.104746",
     "exception": false,
     "start_time": "2022-04-15T19:33:00.087208",
     "status": "completed"
    },
    "tags": []
   },
   "source": [
    "## Step 2: Specify and Fit the Model\n",
    "\n",
    "Create a `DecisionTreeRegressor` model and fit it to the relevant data.\n",
    "Set `random_state` to 1 again when creating the model."
   ]
  },
  {
   "cell_type": "code",
   "execution_count": 4,
   "id": "356bdcff",
   "metadata": {
    "execution": {
     "iopub.execute_input": "2022-04-15T19:33:00.141601Z",
     "iopub.status.busy": "2022-04-15T19:33:00.141048Z",
     "iopub.status.idle": "2022-04-15T19:33:00.168964Z",
     "shell.execute_reply": "2022-04-15T19:33:00.167832Z"
    },
    "papermill": {
     "duration": 0.048856,
     "end_time": "2022-04-15T19:33:00.171133",
     "exception": false,
     "start_time": "2022-04-15T19:33:00.122277",
     "status": "completed"
    },
    "tags": []
   },
   "outputs": [
    {
     "name": "stdout",
     "output_type": "stream",
     "text": [
      "[186500. 184000. 130000.  92000. 164500. 220000. 335000. 144152. 215000.\n",
      " 262000.]\n",
      "[186500. 184000. 130000.  92000. 164500. 220000. 335000. 144152. 215000.\n",
      " 262000.]\n"
     ]
    },
    {
     "data": {
      "application/javascript": [
       "parent.postMessage({\"jupyterEvent\": \"custom.exercise_interaction\", \"data\": {\"outcomeType\": 1, \"valueTowardsCompletion\": 0.25, \"interactionType\": 1, \"questionType\": 2, \"questionId\": \"2_FitModelWithTrain\", \"learnToolsVersion\": \"0.3.4\", \"failureMessage\": \"\", \"exceptionClass\": \"\", \"trace\": \"\"}}, \"*\")"
      ],
      "text/plain": [
       "<IPython.core.display.Javascript object>"
      ]
     },
     "metadata": {},
     "output_type": "display_data"
    },
    {
     "data": {
      "text/markdown": [
       "<span style=\"color:#33cc33\">Correct</span>"
      ],
      "text/plain": [
       "Correct"
      ]
     },
     "metadata": {},
     "output_type": "display_data"
    }
   ],
   "source": [
    "# You imported DecisionTreeRegressor in your last exercise\n",
    "# and that code has been copied to the setup code above. So, no need to\n",
    "# import it again\n",
    "\n",
    "iowa_model = DecisionTreeRegressor(random_state=1)\n",
    "iowa_model.fit(train_X, train_y)\n",
    "\n",
    "# Check your answer\n",
    "step_2.check()"
   ]
  },
  {
   "cell_type": "code",
   "execution_count": 5,
   "id": "5eb11862",
   "metadata": {
    "execution": {
     "iopub.execute_input": "2022-04-15T19:33:00.211618Z",
     "iopub.status.busy": "2022-04-15T19:33:00.211059Z",
     "iopub.status.idle": "2022-04-15T19:33:00.214607Z",
     "shell.execute_reply": "2022-04-15T19:33:00.213999Z"
    },
    "papermill": {
     "duration": 0.025778,
     "end_time": "2022-04-15T19:33:00.216534",
     "exception": false,
     "start_time": "2022-04-15T19:33:00.190756",
     "status": "completed"
    },
    "tags": []
   },
   "outputs": [],
   "source": [
    "# step_2.hint()\n",
    "#step_2.solution()"
   ]
  },
  {
   "cell_type": "markdown",
   "id": "5003ae25",
   "metadata": {
    "papermill": {
     "duration": 0.019145,
     "end_time": "2022-04-15T19:33:00.255248",
     "exception": false,
     "start_time": "2022-04-15T19:33:00.236103",
     "status": "completed"
    },
    "tags": []
   },
   "source": [
    "## Step 3: Make Predictions with Validation data\n"
   ]
  },
  {
   "cell_type": "code",
   "execution_count": 6,
   "id": "74938c0c",
   "metadata": {
    "execution": {
     "iopub.execute_input": "2022-04-15T19:33:00.296039Z",
     "iopub.status.busy": "2022-04-15T19:33:00.295767Z",
     "iopub.status.idle": "2022-04-15T19:33:00.306020Z",
     "shell.execute_reply": "2022-04-15T19:33:00.305042Z"
    },
    "papermill": {
     "duration": 0.034269,
     "end_time": "2022-04-15T19:33:00.309044",
     "exception": false,
     "start_time": "2022-04-15T19:33:00.274775",
     "status": "completed"
    },
    "tags": []
   },
   "outputs": [
    {
     "data": {
      "application/javascript": [
       "parent.postMessage({\"jupyterEvent\": \"custom.exercise_interaction\", \"data\": {\"outcomeType\": 1, \"valueTowardsCompletion\": 0.25, \"interactionType\": 1, \"questionType\": 2, \"questionId\": \"3_ValPreds\", \"learnToolsVersion\": \"0.3.4\", \"failureMessage\": \"\", \"exceptionClass\": \"\", \"trace\": \"\"}}, \"*\")"
      ],
      "text/plain": [
       "<IPython.core.display.Javascript object>"
      ]
     },
     "metadata": {},
     "output_type": "display_data"
    },
    {
     "data": {
      "text/markdown": [
       "<span style=\"color:#33cc33\">Correct</span>"
      ],
      "text/plain": [
       "Correct"
      ]
     },
     "metadata": {},
     "output_type": "display_data"
    }
   ],
   "source": [
    "# Predict with all validation observations\n",
    "val_predictions = iowa_model.predict(val_X)\n",
    "# Check your answer\n",
    "step_3.check()"
   ]
  },
  {
   "cell_type": "code",
   "execution_count": 7,
   "id": "97cde798",
   "metadata": {
    "execution": {
     "iopub.execute_input": "2022-04-15T19:33:00.358346Z",
     "iopub.status.busy": "2022-04-15T19:33:00.357621Z",
     "iopub.status.idle": "2022-04-15T19:33:00.361274Z",
     "shell.execute_reply": "2022-04-15T19:33:00.360640Z"
    },
    "papermill": {
     "duration": 0.032753,
     "end_time": "2022-04-15T19:33:00.363087",
     "exception": false,
     "start_time": "2022-04-15T19:33:00.330334",
     "status": "completed"
    },
    "tags": []
   },
   "outputs": [],
   "source": [
    "# step_3.hint()\n",
    "#step_3.solution()"
   ]
  },
  {
   "cell_type": "markdown",
   "id": "4b469960",
   "metadata": {
    "papermill": {
     "duration": 0.019956,
     "end_time": "2022-04-15T19:33:00.403329",
     "exception": false,
     "start_time": "2022-04-15T19:33:00.383373",
     "status": "completed"
    },
    "tags": []
   },
   "source": [
    "Inspect your predictions and actual values from validation data."
   ]
  },
  {
   "cell_type": "code",
   "execution_count": 8,
   "id": "7cbdd34c",
   "metadata": {
    "execution": {
     "iopub.execute_input": "2022-04-15T19:33:00.445283Z",
     "iopub.status.busy": "2022-04-15T19:33:00.444983Z",
     "iopub.status.idle": "2022-04-15T19:33:00.450788Z",
     "shell.execute_reply": "2022-04-15T19:33:00.449877Z"
    },
    "papermill": {
     "duration": 0.029651,
     "end_time": "2022-04-15T19:33:00.453211",
     "exception": false,
     "start_time": "2022-04-15T19:33:00.423560",
     "status": "completed"
    },
    "tags": []
   },
   "outputs": [
    {
     "name": "stdout",
     "output_type": "stream",
     "text": [
      "<learntools.core.constants.PlaceholderValue object at 0x7f33ed4e75d0>\n",
      "<learntools.core.constants.PlaceholderValue object at 0x7f33ed4e75d0>\n"
     ]
    }
   ],
   "source": [
    "# print the top few validation predictions\n",
    "print(____)\n",
    "# print the top few actual prices from validation data\n",
    "print(____)"
   ]
  },
  {
   "cell_type": "markdown",
   "id": "a2658c37",
   "metadata": {
    "papermill": {
     "duration": 0.020537,
     "end_time": "2022-04-15T19:33:00.495998",
     "exception": false,
     "start_time": "2022-04-15T19:33:00.475461",
     "status": "completed"
    },
    "tags": []
   },
   "source": [
    "What do you notice that is different from what you saw with in-sample predictions (which are printed after the top code cell in this page).\n",
    "\n",
    "Do you remember why validation predictions differ from in-sample (or training) predictions? This is an important idea from the last lesson.\n",
    "\n",
    "## Step 4: Calculate the Mean Absolute Error in Validation Data\n"
   ]
  },
  {
   "cell_type": "code",
   "execution_count": 9,
   "id": "1f71f538",
   "metadata": {
    "execution": {
     "iopub.execute_input": "2022-04-15T19:33:00.539913Z",
     "iopub.status.busy": "2022-04-15T19:33:00.539419Z",
     "iopub.status.idle": "2022-04-15T19:33:00.548143Z",
     "shell.execute_reply": "2022-04-15T19:33:00.547387Z"
    },
    "papermill": {
     "duration": 0.032428,
     "end_time": "2022-04-15T19:33:00.549897",
     "exception": false,
     "start_time": "2022-04-15T19:33:00.517469",
     "status": "completed"
    },
    "tags": []
   },
   "outputs": [
    {
     "data": {
      "application/javascript": [
       "parent.postMessage({\"jupyterEvent\": \"custom.exercise_interaction\", \"data\": {\"outcomeType\": 1, \"valueTowardsCompletion\": 0.25, \"interactionType\": 1, \"questionType\": 1, \"questionId\": \"4_MAE\", \"learnToolsVersion\": \"0.3.4\", \"failureMessage\": \"\", \"exceptionClass\": \"\", \"trace\": \"\"}}, \"*\")"
      ],
      "text/plain": [
       "<IPython.core.display.Javascript object>"
      ]
     },
     "metadata": {},
     "output_type": "display_data"
    },
    {
     "data": {
      "text/markdown": [
       "<span style=\"color:#33cc33\">Correct</span>"
      ],
      "text/plain": [
       "Correct"
      ]
     },
     "metadata": {},
     "output_type": "display_data"
    }
   ],
   "source": [
    "from sklearn.metrics import mean_absolute_error\n",
    "val_mae = mean_absolute_error(val_y, val_predictions)\n",
    "\n",
    "# Check your answer\n",
    "step_4.check()"
   ]
  },
  {
   "cell_type": "code",
   "execution_count": 10,
   "id": "9136b6a9",
   "metadata": {
    "execution": {
     "iopub.execute_input": "2022-04-15T19:33:00.597212Z",
     "iopub.status.busy": "2022-04-15T19:33:00.596416Z",
     "iopub.status.idle": "2022-04-15T19:33:00.600230Z",
     "shell.execute_reply": "2022-04-15T19:33:00.599648Z"
    },
    "papermill": {
     "duration": 0.02859,
     "end_time": "2022-04-15T19:33:00.602081",
     "exception": false,
     "start_time": "2022-04-15T19:33:00.573491",
     "status": "completed"
    },
    "tags": []
   },
   "outputs": [],
   "source": [
    "# step_4.hint()\n",
    "#step_4.solution()"
   ]
  },
  {
   "cell_type": "markdown",
   "id": "28db9002",
   "metadata": {
    "papermill": {
     "duration": 0.021672,
     "end_time": "2022-04-15T19:33:00.645744",
     "exception": false,
     "start_time": "2022-04-15T19:33:00.624072",
     "status": "completed"
    },
    "tags": []
   },
   "source": [
    "Is that MAE good?  There isn't a general rule for what values are good that applies across applications. But you'll see how to use (and improve) this number in the next step.\n",
    "\n",
    "# Keep Going\n",
    "\n",
    "You are ready for **[Underfitting and Overfitting](https://www.kaggle.com/dansbecker/underfitting-and-overfitting).**\n"
   ]
  },
  {
   "cell_type": "markdown",
   "id": "32e7be9a",
   "metadata": {
    "papermill": {
     "duration": 0.021563,
     "end_time": "2022-04-15T19:33:00.689469",
     "exception": false,
     "start_time": "2022-04-15T19:33:00.667906",
     "status": "completed"
    },
    "tags": []
   },
   "source": [
    "---\n",
    "\n",
    "\n",
    "\n",
    "\n",
    "*Have questions or comments? Visit the [course discussion forum](https://www.kaggle.com/learn/intro-to-machine-learning/discussion) to chat with other learners.*"
   ]
  }
 ],
 "metadata": {
  "kernelspec": {
   "display_name": "Python 3",
   "language": "python",
   "name": "python3"
  },
  "language_info": {
   "codemirror_mode": {
    "name": "ipython",
    "version": 3
   },
   "file_extension": ".py",
   "mimetype": "text/x-python",
   "name": "python",
   "nbconvert_exporter": "python",
   "pygments_lexer": "ipython3",
   "version": "3.7.12"
  },
  "papermill": {
   "default_parameters": {},
   "duration": 13.113262,
   "end_time": "2022-04-15T19:33:01.431651",
   "environment_variables": {},
   "exception": null,
   "input_path": "__notebook__.ipynb",
   "output_path": "__notebook__.ipynb",
   "parameters": {},
   "start_time": "2022-04-15T19:32:48.318389",
   "version": "2.3.4"
  }
 },
 "nbformat": 4,
 "nbformat_minor": 5
}
