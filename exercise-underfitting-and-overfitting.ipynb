{
 "cells": [
  {
   "cell_type": "markdown",
   "id": "e1628157",
   "metadata": {
    "papermill": {
     "duration": 0.009784,
     "end_time": "2022-04-15T19:33:54.687629",
     "exception": false,
     "start_time": "2022-04-15T19:33:54.677845",
     "status": "completed"
    },
    "tags": []
   },
   "source": [
    "**This notebook is an exercise in the [Introduction to Machine Learning](https://www.kaggle.com/learn/intro-to-machine-learning) course.  You can reference the tutorial at [this link](https://www.kaggle.com/dansbecker/underfitting-and-overfitting).**\n",
    "\n",
    "---\n"
   ]
  },
  {
   "cell_type": "markdown",
   "id": "46d4802c",
   "metadata": {
    "papermill": {
     "duration": 0.008303,
     "end_time": "2022-04-15T19:33:54.704824",
     "exception": false,
     "start_time": "2022-04-15T19:33:54.696521",
     "status": "completed"
    },
    "tags": []
   },
   "source": [
    "## Recap\n",
    "You've built your first model, and now it's time to optimize the size of the tree to make better predictions. Run this cell to set up your coding environment where the previous step left off."
   ]
  },
  {
   "cell_type": "code",
   "execution_count": 1,
   "id": "1fd0d13f",
   "metadata": {
    "execution": {
     "iopub.execute_input": "2022-04-15T19:33:54.724207Z",
     "iopub.status.busy": "2022-04-15T19:33:54.723740Z",
     "iopub.status.idle": "2022-04-15T19:33:56.091902Z",
     "shell.execute_reply": "2022-04-15T19:33:56.091299Z"
    },
    "papermill": {
     "duration": 1.380703,
     "end_time": "2022-04-15T19:33:56.094095",
     "exception": false,
     "start_time": "2022-04-15T19:33:54.713392",
     "status": "completed"
    },
    "tags": []
   },
   "outputs": [
    {
     "name": "stdout",
     "output_type": "stream",
     "text": [
      "Validation MAE: 29,653\n",
      "\n",
      "Setup complete\n"
     ]
    }
   ],
   "source": [
    "# Code you have previously used to load data\n",
    "import pandas as pd\n",
    "from sklearn.metrics import mean_absolute_error\n",
    "from sklearn.model_selection import train_test_split\n",
    "from sklearn.tree import DecisionTreeRegressor\n",
    "\n",
    "\n",
    "# Path of the file to read\n",
    "iowa_file_path = '../input/home-data-for-ml-course/train.csv'\n",
    "\n",
    "home_data = pd.read_csv(iowa_file_path)\n",
    "# Create target object and call it y\n",
    "y = home_data.SalePrice\n",
    "# Create X\n",
    "features = ['LotArea', 'YearBuilt', '1stFlrSF', '2ndFlrSF', 'FullBath', 'BedroomAbvGr', 'TotRmsAbvGrd']\n",
    "X = home_data[features]\n",
    "\n",
    "# Split into validation and training data\n",
    "train_X, val_X, train_y, val_y = train_test_split(X, y, random_state=1)\n",
    "\n",
    "# Specify Model\n",
    "iowa_model = DecisionTreeRegressor(random_state=1)\n",
    "# Fit Model\n",
    "iowa_model.fit(train_X, train_y)\n",
    "\n",
    "# Make validation predictions and calculate mean absolute error\n",
    "val_predictions = iowa_model.predict(val_X)\n",
    "val_mae = mean_absolute_error(val_predictions, val_y)\n",
    "print(\"Validation MAE: {:,.0f}\".format(val_mae))\n",
    "\n",
    "# Set up code checking\n",
    "from learntools.core import binder\n",
    "binder.bind(globals())\n",
    "from learntools.machine_learning.ex5 import *\n",
    "print(\"\\nSetup complete\")"
   ]
  },
  {
   "cell_type": "markdown",
   "id": "8913b45b",
   "metadata": {
    "papermill": {
     "duration": 0.00883,
     "end_time": "2022-04-15T19:33:56.112966",
     "exception": false,
     "start_time": "2022-04-15T19:33:56.104136",
     "status": "completed"
    },
    "tags": []
   },
   "source": [
    "# Exercises\n",
    "You could write the function `get_mae` yourself. For now, we'll supply it. This is the same function you read about in the previous lesson. Just run the cell below."
   ]
  },
  {
   "cell_type": "code",
   "execution_count": 2,
   "id": "70dc2392",
   "metadata": {
    "execution": {
     "iopub.execute_input": "2022-04-15T19:33:56.132827Z",
     "iopub.status.busy": "2022-04-15T19:33:56.132542Z",
     "iopub.status.idle": "2022-04-15T19:33:56.137082Z",
     "shell.execute_reply": "2022-04-15T19:33:56.136256Z"
    },
    "papermill": {
     "duration": 0.016792,
     "end_time": "2022-04-15T19:33:56.139016",
     "exception": false,
     "start_time": "2022-04-15T19:33:56.122224",
     "status": "completed"
    },
    "tags": []
   },
   "outputs": [],
   "source": [
    "def get_mae(max_leaf_nodes, train_X, val_X, train_y, val_y):\n",
    "    model = DecisionTreeRegressor(max_leaf_nodes=max_leaf_nodes, random_state=0)\n",
    "    model.fit(train_X, train_y)\n",
    "    preds_val = model.predict(val_X)\n",
    "    mae = mean_absolute_error(val_y, preds_val)\n",
    "    return(mae)"
   ]
  },
  {
   "cell_type": "markdown",
   "id": "ec66cc3a",
   "metadata": {
    "papermill": {
     "duration": 0.008774,
     "end_time": "2022-04-15T19:33:56.156894",
     "exception": false,
     "start_time": "2022-04-15T19:33:56.148120",
     "status": "completed"
    },
    "tags": []
   },
   "source": [
    "## Step 1: Compare Different Tree Sizes\n",
    "Write a loop that tries the following values for *max_leaf_nodes* from a set of possible values.\n",
    "\n",
    "Call the *get_mae* function on each value of max_leaf_nodes. Store the output in some way that allows you to select the value of `max_leaf_nodes` that gives the most accurate model on your data."
   ]
  },
  {
   "cell_type": "code",
   "execution_count": 3,
   "id": "8955892e",
   "metadata": {
    "execution": {
     "iopub.execute_input": "2022-04-15T19:33:56.176648Z",
     "iopub.status.busy": "2022-04-15T19:33:56.176098Z",
     "iopub.status.idle": "2022-04-15T19:33:56.223953Z",
     "shell.execute_reply": "2022-04-15T19:33:56.223040Z"
    },
    "papermill": {
     "duration": 0.060419,
     "end_time": "2022-04-15T19:33:56.226211",
     "exception": false,
     "start_time": "2022-04-15T19:33:56.165792",
     "status": "completed"
    },
    "tags": []
   },
   "outputs": [
    {
     "data": {
      "application/javascript": [
       "parent.postMessage({\"jupyterEvent\": \"custom.exercise_interaction\", \"data\": {\"outcomeType\": 1, \"valueTowardsCompletion\": 0.5, \"interactionType\": 1, \"questionType\": 1, \"questionId\": \"1_BestTreeSize\", \"learnToolsVersion\": \"0.3.4\", \"failureMessage\": \"\", \"exceptionClass\": \"\", \"trace\": \"\"}}, \"*\")"
      ],
      "text/plain": [
       "<IPython.core.display.Javascript object>"
      ]
     },
     "metadata": {},
     "output_type": "display_data"
    },
    {
     "data": {
      "text/markdown": [
       "<span style=\"color:#33cc33\">Correct</span>"
      ],
      "text/plain": [
       "Correct"
      ]
     },
     "metadata": {},
     "output_type": "display_data"
    }
   ],
   "source": [
    "candidate_max_leaf_nodes = [5, 25, 50, 100, 250, 500]\n",
    "\n",
    "scores = {leaf_size: get_mae(leaf_size, train_X, val_X, train_y, val_y) for leaf_size in candidate_max_leaf_nodes}\n",
    "best_tree_size = min(scores, key=scores.get)\n",
    "\n",
    "# Check your answer\n",
    "step_1.check()"
   ]
  },
  {
   "cell_type": "code",
   "execution_count": 4,
   "id": "c2bf6046",
   "metadata": {
    "execution": {
     "iopub.execute_input": "2022-04-15T19:33:56.248482Z",
     "iopub.status.busy": "2022-04-15T19:33:56.247606Z",
     "iopub.status.idle": "2022-04-15T19:33:56.251711Z",
     "shell.execute_reply": "2022-04-15T19:33:56.250953Z"
    },
    "papermill": {
     "duration": 0.016987,
     "end_time": "2022-04-15T19:33:56.253444",
     "exception": false,
     "start_time": "2022-04-15T19:33:56.236457",
     "status": "completed"
    },
    "tags": []
   },
   "outputs": [],
   "source": [
    "# The lines below will show you a hint or the solution.\n",
    "# step_1.hint() \n",
    "#step_1.solution()"
   ]
  },
  {
   "cell_type": "markdown",
   "id": "7819b5d2",
   "metadata": {
    "papermill": {
     "duration": 0.009662,
     "end_time": "2022-04-15T19:33:56.273270",
     "exception": false,
     "start_time": "2022-04-15T19:33:56.263608",
     "status": "completed"
    },
    "tags": []
   },
   "source": [
    "## Step 2: Fit Model Using All Data\n",
    "You know the best tree size. If you were going to deploy this model in practice, you would make it even more accurate by using all of the data and keeping that tree size.  That is, you don't need to hold out the validation data now that you've made all your modeling decisions."
   ]
  },
  {
   "cell_type": "code",
   "execution_count": 5,
   "id": "64305ce2",
   "metadata": {
    "execution": {
     "iopub.execute_input": "2022-04-15T19:33:56.295581Z",
     "iopub.status.busy": "2022-04-15T19:33:56.294652Z",
     "iopub.status.idle": "2022-04-15T19:33:56.311552Z",
     "shell.execute_reply": "2022-04-15T19:33:56.310744Z"
    },
    "papermill": {
     "duration": 0.03055,
     "end_time": "2022-04-15T19:33:56.313707",
     "exception": false,
     "start_time": "2022-04-15T19:33:56.283157",
     "status": "completed"
    },
    "tags": []
   },
   "outputs": [
    {
     "data": {
      "application/javascript": [
       "parent.postMessage({\"jupyterEvent\": \"custom.exercise_interaction\", \"data\": {\"outcomeType\": 1, \"valueTowardsCompletion\": 0.5, \"interactionType\": 1, \"questionType\": 2, \"questionId\": \"2_FitModelWithAllData\", \"learnToolsVersion\": \"0.3.4\", \"failureMessage\": \"\", \"exceptionClass\": \"\", \"trace\": \"\"}}, \"*\")"
      ],
      "text/plain": [
       "<IPython.core.display.Javascript object>"
      ]
     },
     "metadata": {},
     "output_type": "display_data"
    },
    {
     "data": {
      "text/markdown": [
       "<span style=\"color:#33cc33\">Correct</span>"
      ],
      "text/plain": [
       "Correct"
      ]
     },
     "metadata": {},
     "output_type": "display_data"
    }
   ],
   "source": [
    "# Fill in argument to make optimal size and uncomment\n",
    "\n",
    "final_model = DecisionTreeRegressor(max_leaf_nodes=best_tree_size, random_state=1)\n",
    "\n",
    "# fit the final model\n",
    "final_model.fit(X, y)\n",
    "\n",
    "# Check your answer\n",
    "step_2.check()"
   ]
  },
  {
   "cell_type": "code",
   "execution_count": 6,
   "id": "5e74d3a5",
   "metadata": {
    "execution": {
     "iopub.execute_input": "2022-04-15T19:33:56.336891Z",
     "iopub.status.busy": "2022-04-15T19:33:56.336351Z",
     "iopub.status.idle": "2022-04-15T19:33:56.340220Z",
     "shell.execute_reply": "2022-04-15T19:33:56.339167Z"
    },
    "papermill": {
     "duration": 0.017687,
     "end_time": "2022-04-15T19:33:56.342138",
     "exception": false,
     "start_time": "2022-04-15T19:33:56.324451",
     "status": "completed"
    },
    "tags": []
   },
   "outputs": [],
   "source": [
    "# step_2.hint()\n",
    "#step_2.solution()"
   ]
  },
  {
   "cell_type": "markdown",
   "id": "1cf4d2ba",
   "metadata": {
    "papermill": {
     "duration": 0.010608,
     "end_time": "2022-04-15T19:33:56.364214",
     "exception": false,
     "start_time": "2022-04-15T19:33:56.353606",
     "status": "completed"
    },
    "tags": []
   },
   "source": [
    "You've tuned this model and improved your results. But we are still using Decision Tree models, which are not very sophisticated by modern machine learning standards. In the next step you will learn to use Random Forests to improve your models even more.\n",
    "\n",
    "# Keep Going\n",
    "\n",
    "You are ready for **[Random Forests](https://www.kaggle.com/dansbecker/random-forests).**\n"
   ]
  },
  {
   "cell_type": "markdown",
   "id": "febdaa1a",
   "metadata": {
    "papermill": {
     "duration": 0.011345,
     "end_time": "2022-04-15T19:33:56.386438",
     "exception": false,
     "start_time": "2022-04-15T19:33:56.375093",
     "status": "completed"
    },
    "tags": []
   },
   "source": [
    "---\n",
    "\n",
    "\n",
    "\n",
    "\n",
    "*Have questions or comments? Visit the [course discussion forum](https://www.kaggle.com/learn/intro-to-machine-learning/discussion) to chat with other learners.*"
   ]
  }
 ],
 "metadata": {
  "kernelspec": {
   "display_name": "Python 3",
   "language": "python",
   "name": "python3"
  },
  "language_info": {
   "codemirror_mode": {
    "name": "ipython",
    "version": 3
   },
   "file_extension": ".py",
   "mimetype": "text/x-python",
   "name": "python",
   "nbconvert_exporter": "python",
   "pygments_lexer": "ipython3",
   "version": "3.7.12"
  },
  "papermill": {
   "default_parameters": {},
   "duration": 11.246519,
   "end_time": "2022-04-15T19:33:57.118535",
   "environment_variables": {},
   "exception": null,
   "input_path": "__notebook__.ipynb",
   "output_path": "__notebook__.ipynb",
   "parameters": {},
   "start_time": "2022-04-15T19:33:45.872016",
   "version": "2.3.4"
  }
 },
 "nbformat": 4,
 "nbformat_minor": 5
}
