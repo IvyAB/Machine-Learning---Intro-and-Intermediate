{
 "cells": [
  {
   "cell_type": "markdown",
   "id": "ae1a4228",
   "metadata": {
    "papermill": {
     "duration": 0.019673,
     "end_time": "2022-04-15T19:31:42.132427",
     "exception": false,
     "start_time": "2022-04-15T19:31:42.112754",
     "status": "completed"
    },
    "tags": []
   },
   "source": [
    "**This notebook is an exercise in the [Introduction to Machine Learning](https://www.kaggle.com/learn/intro-to-machine-learning) course.  You can reference the tutorial at [this link](https://www.kaggle.com/dansbecker/your-first-machine-learning-model).**\n",
    "\n",
    "---\n"
   ]
  },
  {
   "cell_type": "markdown",
   "id": "a68c2d31",
   "metadata": {
    "papermill": {
     "duration": 0.018843,
     "end_time": "2022-04-15T19:31:42.170682",
     "exception": false,
     "start_time": "2022-04-15T19:31:42.151839",
     "status": "completed"
    },
    "tags": []
   },
   "source": [
    "## Recap\n",
    "So far, you have loaded your data and reviewed it with the following code. Run this cell to set up your coding environment where the previous step left off."
   ]
  },
  {
   "cell_type": "code",
   "execution_count": 1,
   "id": "f8eeea0a",
   "metadata": {
    "execution": {
     "iopub.execute_input": "2022-04-15T19:31:42.210728Z",
     "iopub.status.busy": "2022-04-15T19:31:42.210063Z",
     "iopub.status.idle": "2022-04-15T19:31:43.702231Z",
     "shell.execute_reply": "2022-04-15T19:31:43.701168Z"
    },
    "papermill": {
     "duration": 1.514797,
     "end_time": "2022-04-15T19:31:43.704939",
     "exception": false,
     "start_time": "2022-04-15T19:31:42.190142",
     "status": "completed"
    },
    "tags": []
   },
   "outputs": [
    {
     "name": "stdout",
     "output_type": "stream",
     "text": [
      "Setup Complete\n"
     ]
    }
   ],
   "source": [
    "# Code you have previously used to load data\n",
    "import pandas as pd\n",
    "\n",
    "# Path of the file to read\n",
    "iowa_file_path = '../input/home-data-for-ml-course/train.csv'\n",
    "\n",
    "home_data = pd.read_csv(iowa_file_path)\n",
    "\n",
    "# Set up code checking\n",
    "from learntools.core import binder\n",
    "binder.bind(globals())\n",
    "from learntools.machine_learning.ex3 import *\n",
    "\n",
    "print(\"Setup Complete\")"
   ]
  },
  {
   "cell_type": "markdown",
   "id": "2fe7a0d0",
   "metadata": {
    "papermill": {
     "duration": 0.018529,
     "end_time": "2022-04-15T19:31:43.745084",
     "exception": false,
     "start_time": "2022-04-15T19:31:43.726555",
     "status": "completed"
    },
    "tags": []
   },
   "source": [
    "# Exercises\n",
    "\n",
    "## Step 1: Specify Prediction Target\n",
    "Select the target variable, which corresponds to the sales price. Save this to a new variable called `y`. You'll need to print a list of the columns to find the name of the column you need.\n"
   ]
  },
  {
   "cell_type": "code",
   "execution_count": 2,
   "id": "5d7753d5",
   "metadata": {
    "execution": {
     "iopub.execute_input": "2022-04-15T19:31:43.785481Z",
     "iopub.status.busy": "2022-04-15T19:31:43.784929Z",
     "iopub.status.idle": "2022-04-15T19:31:43.788523Z",
     "shell.execute_reply": "2022-04-15T19:31:43.787884Z"
    },
    "papermill": {
     "duration": 0.026303,
     "end_time": "2022-04-15T19:31:43.790295",
     "exception": false,
     "start_time": "2022-04-15T19:31:43.763992",
     "status": "completed"
    },
    "tags": []
   },
   "outputs": [],
   "source": [
    "# print the list of columns in the dataset to find the name of the prediction target\n"
   ]
  },
  {
   "cell_type": "code",
   "execution_count": 3,
   "id": "209922b6",
   "metadata": {
    "execution": {
     "iopub.execute_input": "2022-04-15T19:31:43.832368Z",
     "iopub.status.busy": "2022-04-15T19:31:43.831409Z",
     "iopub.status.idle": "2022-04-15T19:31:43.847051Z",
     "shell.execute_reply": "2022-04-15T19:31:43.846428Z"
    },
    "papermill": {
     "duration": 0.039265,
     "end_time": "2022-04-15T19:31:43.849037",
     "exception": false,
     "start_time": "2022-04-15T19:31:43.809772",
     "status": "completed"
    },
    "tags": []
   },
   "outputs": [
    {
     "data": {
      "application/javascript": [
       "parent.postMessage({\"jupyterEvent\": \"custom.exercise_interaction\", \"data\": {\"outcomeType\": 1, \"valueTowardsCompletion\": 0.25, \"interactionType\": 1, \"questionType\": 2, \"questionId\": \"1_SetTarget\", \"learnToolsVersion\": \"0.3.4\", \"failureMessage\": \"\", \"exceptionClass\": \"\", \"trace\": \"\"}}, \"*\")"
      ],
      "text/plain": [
       "<IPython.core.display.Javascript object>"
      ]
     },
     "metadata": {},
     "output_type": "display_data"
    },
    {
     "data": {
      "text/markdown": [
       "<span style=\"color:#33cc33\">Correct</span>"
      ],
      "text/plain": [
       "Correct"
      ]
     },
     "metadata": {},
     "output_type": "display_data"
    }
   ],
   "source": [
    "y = home_data.SalePrice\n",
    "\n",
    "# Check your answer\n",
    "step_1.check()"
   ]
  },
  {
   "cell_type": "code",
   "execution_count": 4,
   "id": "90bef0b6",
   "metadata": {
    "execution": {
     "iopub.execute_input": "2022-04-15T19:31:43.894628Z",
     "iopub.status.busy": "2022-04-15T19:31:43.893952Z",
     "iopub.status.idle": "2022-04-15T19:31:43.898079Z",
     "shell.execute_reply": "2022-04-15T19:31:43.897227Z"
    },
    "papermill": {
     "duration": 0.030005,
     "end_time": "2022-04-15T19:31:43.900044",
     "exception": false,
     "start_time": "2022-04-15T19:31:43.870039",
     "status": "completed"
    },
    "tags": []
   },
   "outputs": [],
   "source": [
    "# The lines below will show you a hint or the solution.\n",
    "# step_1.hint() \n",
    "#step_1.solution()"
   ]
  },
  {
   "cell_type": "markdown",
   "id": "9ab966c3",
   "metadata": {
    "papermill": {
     "duration": 0.020726,
     "end_time": "2022-04-15T19:31:43.941589",
     "exception": false,
     "start_time": "2022-04-15T19:31:43.920863",
     "status": "completed"
    },
    "tags": []
   },
   "source": [
    "## Step 2: Create X\n",
    "Now you will create a DataFrame called `X` holding the predictive features.\n",
    "\n",
    "Since you want only some columns from the original data, you'll first create a list with the names of the columns you want in `X`.\n",
    "\n",
    "You'll use just the following columns in the list (you can copy and paste the whole list to save some typing, though you'll still need to add quotes):\n",
    "  * LotArea\n",
    "  * YearBuilt\n",
    "  * 1stFlrSF\n",
    "  * 2ndFlrSF\n",
    "  * FullBath\n",
    "  * BedroomAbvGr\n",
    "  * TotRmsAbvGrd\n",
    "\n",
    "After you've created that list of features, use it to create the DataFrame that you'll use to fit the model."
   ]
  },
  {
   "cell_type": "code",
   "execution_count": 5,
   "id": "46b2031e",
   "metadata": {
    "execution": {
     "iopub.execute_input": "2022-04-15T19:31:43.985420Z",
     "iopub.status.busy": "2022-04-15T19:31:43.984981Z",
     "iopub.status.idle": "2022-04-15T19:31:44.000079Z",
     "shell.execute_reply": "2022-04-15T19:31:43.999252Z"
    },
    "papermill": {
     "duration": 0.040346,
     "end_time": "2022-04-15T19:31:44.002205",
     "exception": false,
     "start_time": "2022-04-15T19:31:43.961859",
     "status": "completed"
    },
    "tags": []
   },
   "outputs": [
    {
     "data": {
      "application/javascript": [
       "parent.postMessage({\"jupyterEvent\": \"custom.exercise_interaction\", \"data\": {\"outcomeType\": 1, \"valueTowardsCompletion\": 0.25, \"interactionType\": 1, \"questionType\": 2, \"questionId\": \"2_SelectPredictionData\", \"learnToolsVersion\": \"0.3.4\", \"failureMessage\": \"\", \"exceptionClass\": \"\", \"trace\": \"\"}}, \"*\")"
      ],
      "text/plain": [
       "<IPython.core.display.Javascript object>"
      ]
     },
     "metadata": {},
     "output_type": "display_data"
    },
    {
     "data": {
      "text/markdown": [
       "<span style=\"color:#33cc33\">Correct</span>"
      ],
      "text/plain": [
       "Correct"
      ]
     },
     "metadata": {},
     "output_type": "display_data"
    }
   ],
   "source": [
    "feature_names = [\"LotArea\", \"YearBuilt\", \"1stFlrSF\", \"2ndFlrSF\",\n",
    "                      \"FullBath\", \"BedroomAbvGr\", \"TotRmsAbvGrd\"]\n",
    "\n",
    "X=home_data[feature_names]\n",
    "# Check your answer\n",
    "step_2.check()"
   ]
  },
  {
   "cell_type": "code",
   "execution_count": 6,
   "id": "1c697e2b",
   "metadata": {
    "execution": {
     "iopub.execute_input": "2022-04-15T19:31:44.047689Z",
     "iopub.status.busy": "2022-04-15T19:31:44.046994Z",
     "iopub.status.idle": "2022-04-15T19:31:44.051416Z",
     "shell.execute_reply": "2022-04-15T19:31:44.050426Z"
    },
    "papermill": {
     "duration": 0.029189,
     "end_time": "2022-04-15T19:31:44.053617",
     "exception": false,
     "start_time": "2022-04-15T19:31:44.024428",
     "status": "completed"
    },
    "tags": []
   },
   "outputs": [],
   "source": [
    "# step_2.hint()\n",
    "#step_2.solution()"
   ]
  },
  {
   "cell_type": "markdown",
   "id": "e4cb4f2f",
   "metadata": {
    "papermill": {
     "duration": 0.021252,
     "end_time": "2022-04-15T19:31:44.096657",
     "exception": false,
     "start_time": "2022-04-15T19:31:44.075405",
     "status": "completed"
    },
    "tags": []
   },
   "source": [
    "## Review Data\n",
    "Before building a model, take a quick look at **X** to verify it looks sensible"
   ]
  },
  {
   "cell_type": "code",
   "execution_count": 7,
   "id": "5f9ce3c8",
   "metadata": {
    "execution": {
     "iopub.execute_input": "2022-04-15T19:31:44.142839Z",
     "iopub.status.busy": "2022-04-15T19:31:44.142558Z",
     "iopub.status.idle": "2022-04-15T19:31:44.145599Z",
     "shell.execute_reply": "2022-04-15T19:31:44.144916Z"
    },
    "papermill": {
     "duration": 0.02772,
     "end_time": "2022-04-15T19:31:44.147468",
     "exception": false,
     "start_time": "2022-04-15T19:31:44.119748",
     "status": "completed"
    },
    "tags": []
   },
   "outputs": [],
   "source": [
    "# Review data\n",
    "# print description or statistics from X\n",
    "#print(_)\n",
    "\n",
    "# print the top few lines\n",
    "#print(_)"
   ]
  },
  {
   "cell_type": "markdown",
   "id": "3d8114da",
   "metadata": {
    "papermill": {
     "duration": 0.021995,
     "end_time": "2022-04-15T19:31:44.191132",
     "exception": false,
     "start_time": "2022-04-15T19:31:44.169137",
     "status": "completed"
    },
    "tags": []
   },
   "source": [
    "## Step 3: Specify and Fit Model\n",
    "Create a `DecisionTreeRegressor` and save it iowa_model. Ensure you've done the relevant import from sklearn to run this command.\n",
    "\n",
    "Then fit the model you just created using the data in `X` and `y` that you saved above."
   ]
  },
  {
   "cell_type": "code",
   "execution_count": 8,
   "id": "52f1ed83",
   "metadata": {
    "execution": {
     "iopub.execute_input": "2022-04-15T19:31:44.238967Z",
     "iopub.status.busy": "2022-04-15T19:31:44.238424Z",
     "iopub.status.idle": "2022-04-15T19:31:44.256734Z",
     "shell.execute_reply": "2022-04-15T19:31:44.255783Z"
    },
    "papermill": {
     "duration": 0.044338,
     "end_time": "2022-04-15T19:31:44.258973",
     "exception": false,
     "start_time": "2022-04-15T19:31:44.214635",
     "status": "completed"
    },
    "tags": []
   },
   "outputs": [
    {
     "data": {
      "application/javascript": [
       "parent.postMessage({\"jupyterEvent\": \"custom.exercise_interaction\", \"data\": {\"outcomeType\": 1, \"valueTowardsCompletion\": 0.25, \"interactionType\": 1, \"questionType\": 2, \"questionId\": \"3_CreateModel\", \"learnToolsVersion\": \"0.3.4\", \"failureMessage\": \"\", \"exceptionClass\": \"\", \"trace\": \"\"}}, \"*\")"
      ],
      "text/plain": [
       "<IPython.core.display.Javascript object>"
      ]
     },
     "metadata": {},
     "output_type": "display_data"
    },
    {
     "data": {
      "text/markdown": [
       "<span style=\"color:#33cc33\">Correct</span>"
      ],
      "text/plain": [
       "Correct"
      ]
     },
     "metadata": {},
     "output_type": "display_data"
    }
   ],
   "source": [
    "# from _ import _\n",
    "#specify the model. \n",
    "#For model reproducibility, set a numeric value for random_state when specifying the model\n",
    "from sklearn.tree import DecisionTreeRegressor\n",
    "iowa_model = DecisionTreeRegressor(random_state=1)\n",
    "iowa_model.fit(X, y)\n",
    "# Check your answer\n",
    "step_3.check()"
   ]
  },
  {
   "cell_type": "code",
   "execution_count": 9,
   "id": "98ecf921",
   "metadata": {
    "execution": {
     "iopub.execute_input": "2022-04-15T19:31:44.308071Z",
     "iopub.status.busy": "2022-04-15T19:31:44.307721Z",
     "iopub.status.idle": "2022-04-15T19:31:44.311854Z",
     "shell.execute_reply": "2022-04-15T19:31:44.310900Z"
    },
    "papermill": {
     "duration": 0.031084,
     "end_time": "2022-04-15T19:31:44.313825",
     "exception": false,
     "start_time": "2022-04-15T19:31:44.282741",
     "status": "completed"
    },
    "tags": []
   },
   "outputs": [],
   "source": [
    "# step_3.hint()\n",
    "#step_3.solution()"
   ]
  },
  {
   "cell_type": "markdown",
   "id": "9e972b1d",
   "metadata": {
    "papermill": {
     "duration": 0.022622,
     "end_time": "2022-04-15T19:31:44.359496",
     "exception": false,
     "start_time": "2022-04-15T19:31:44.336874",
     "status": "completed"
    },
    "tags": []
   },
   "source": [
    "## Step 4: Make Predictions\n",
    "Make predictions with the model's `predict` command using `X` as the data. Save the results to a variable called `predictions`."
   ]
  },
  {
   "cell_type": "code",
   "execution_count": 10,
   "id": "6d169719",
   "metadata": {
    "execution": {
     "iopub.execute_input": "2022-04-15T19:31:44.407305Z",
     "iopub.status.busy": "2022-04-15T19:31:44.407010Z",
     "iopub.status.idle": "2022-04-15T19:31:44.419566Z",
     "shell.execute_reply": "2022-04-15T19:31:44.418643Z"
    },
    "papermill": {
     "duration": 0.039444,
     "end_time": "2022-04-15T19:31:44.421685",
     "exception": false,
     "start_time": "2022-04-15T19:31:44.382241",
     "status": "completed"
    },
    "tags": []
   },
   "outputs": [
    {
     "data": {
      "application/javascript": [
       "parent.postMessage({\"jupyterEvent\": \"custom.exercise_interaction\", \"data\": {\"outcomeType\": 1, \"valueTowardsCompletion\": 0.25, \"interactionType\": 1, \"questionType\": 2, \"questionId\": \"4_MakePredictions\", \"learnToolsVersion\": \"0.3.4\", \"failureMessage\": \"\", \"exceptionClass\": \"\", \"trace\": \"\"}}, \"*\")"
      ],
      "text/plain": [
       "<IPython.core.display.Javascript object>"
      ]
     },
     "metadata": {},
     "output_type": "display_data"
    },
    {
     "data": {
      "text/markdown": [
       "<span style=\"color:#33cc33\">Correct</span>"
      ],
      "text/plain": [
       "Correct"
      ]
     },
     "metadata": {},
     "output_type": "display_data"
    }
   ],
   "source": [
    "predictions=iowa_model.predict(X)\n",
    "\n",
    "# Check your answer\n",
    "step_4.check()"
   ]
  },
  {
   "cell_type": "code",
   "execution_count": 11,
   "id": "dc21d4c9",
   "metadata": {
    "execution": {
     "iopub.execute_input": "2022-04-15T19:31:44.471497Z",
     "iopub.status.busy": "2022-04-15T19:31:44.471188Z",
     "iopub.status.idle": "2022-04-15T19:31:44.475098Z",
     "shell.execute_reply": "2022-04-15T19:31:44.474115Z"
    },
    "papermill": {
     "duration": 0.031402,
     "end_time": "2022-04-15T19:31:44.477198",
     "exception": false,
     "start_time": "2022-04-15T19:31:44.445796",
     "status": "completed"
    },
    "tags": []
   },
   "outputs": [],
   "source": [
    "# step_4.hint()\n",
    "#step_4.solution()"
   ]
  },
  {
   "cell_type": "markdown",
   "id": "4ea64e89",
   "metadata": {
    "papermill": {
     "duration": 0.025209,
     "end_time": "2022-04-15T19:31:44.527746",
     "exception": false,
     "start_time": "2022-04-15T19:31:44.502537",
     "status": "completed"
    },
    "tags": []
   },
   "source": [
    "## Think About Your Results\n",
    "\n",
    "Use the `head` method to compare the top few predictions to the actual home values (in `y`) for those same homes. Anything surprising?\n"
   ]
  },
  {
   "cell_type": "code",
   "execution_count": 12,
   "id": "72ff6d15",
   "metadata": {
    "execution": {
     "iopub.execute_input": "2022-04-15T19:31:44.578339Z",
     "iopub.status.busy": "2022-04-15T19:31:44.578058Z",
     "iopub.status.idle": "2022-04-15T19:31:44.581657Z",
     "shell.execute_reply": "2022-04-15T19:31:44.580835Z"
    },
    "papermill": {
     "duration": 0.031041,
     "end_time": "2022-04-15T19:31:44.583680",
     "exception": false,
     "start_time": "2022-04-15T19:31:44.552639",
     "status": "completed"
    },
    "tags": []
   },
   "outputs": [],
   "source": [
    "# You can write code in this cell\n"
   ]
  },
  {
   "cell_type": "markdown",
   "id": "7fe39cb2",
   "metadata": {
    "papermill": {
     "duration": 0.023985,
     "end_time": "2022-04-15T19:31:44.631715",
     "exception": false,
     "start_time": "2022-04-15T19:31:44.607730",
     "status": "completed"
    },
    "tags": []
   },
   "source": [
    "It's natural to ask how accurate the model's predictions will be and how you can improve that. That will be you're next step.\n",
    "\n",
    "# Keep Going\n",
    "\n",
    "You are ready for **[Model Validation](https://www.kaggle.com/dansbecker/model-validation).**\n"
   ]
  },
  {
   "cell_type": "markdown",
   "id": "d64abf90",
   "metadata": {
    "papermill": {
     "duration": 0.024283,
     "end_time": "2022-04-15T19:31:44.680095",
     "exception": false,
     "start_time": "2022-04-15T19:31:44.655812",
     "status": "completed"
    },
    "tags": []
   },
   "source": [
    "---\n",
    "\n",
    "\n",
    "\n",
    "\n",
    "*Have questions or comments? Visit the [course discussion forum](https://www.kaggle.com/learn/intro-to-machine-learning/discussion) to chat with other learners.*"
   ]
  }
 ],
 "metadata": {
  "kernelspec": {
   "display_name": "Python 3",
   "language": "python",
   "name": "python3"
  },
  "language_info": {
   "codemirror_mode": {
    "name": "ipython",
    "version": 3
   },
   "file_extension": ".py",
   "mimetype": "text/x-python",
   "name": "python",
   "nbconvert_exporter": "python",
   "pygments_lexer": "ipython3",
   "version": "3.7.12"
  },
  "papermill": {
   "default_parameters": {},
   "duration": 13.983484,
   "end_time": "2022-04-15T19:31:45.424932",
   "environment_variables": {},
   "exception": null,
   "input_path": "__notebook__.ipynb",
   "output_path": "__notebook__.ipynb",
   "parameters": {},
   "start_time": "2022-04-15T19:31:31.441448",
   "version": "2.3.4"
  }
 },
 "nbformat": 4,
 "nbformat_minor": 5
}
